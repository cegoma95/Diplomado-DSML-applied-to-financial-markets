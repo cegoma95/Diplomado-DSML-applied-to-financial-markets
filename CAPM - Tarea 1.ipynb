{
 "cells": [
  {
   "cell_type": "code",
   "execution_count": 1,
   "metadata": {},
   "outputs": [],
   "source": [
    "import numpy as np\n",
    "import pandas as pd\n",
    "import seaborn as sns\n",
    "import matplotlib.pyplot as plt"
   ]
  },
  {
   "cell_type": "code",
   "execution_count": 51,
   "metadata": {
    "scrolled": true
   },
   "outputs": [],
   "source": [
    "ipc = pd.read_csv(r\"C:\\Users\\cegom\\Downloads\\ipc0019.csv\", parse_dates=[0])\n",
    "ipc = (ipc[ipc.field == \"PX_LAST\"]\n",
    "          .pivot(index = \"date\",columns = \"ticker\",values = \"value\")\n",
    "          .rename(columns = lambda x: x.replace(\" MF Equity\",\"\").replace(\"*\",\"\".strip()))\n",
    "          .loc[\"2017-12-31\":,:]\n",
    "          )\n",
    "ipc = ipc.dropna(axis = 1, thresh = round(len(ipc)*.95))"
   ]
  },
  {
   "cell_type": "code",
   "execution_count": 52,
   "metadata": {},
   "outputs": [],
   "source": [
    "rets = ipc.pct_change().dropna(axis = 0)"
   ]
  },
  {
   "cell_type": "code",
   "execution_count": 58,
   "metadata": {},
   "outputs": [],
   "source": [
    "Phi = rets.iloc[:, :-1].values\n",
    "t = rets.iloc[:,[-1]]\n",
    "N,M = Phi.shape\n",
    "\n",
    "I = np.concatenate([np.identity(M)]*2, axis = 1)\n",
    "I = np.concatenate([I]*2, axis = 0)"
   ]
  },
  {
   "cell_type": "code",
   "execution_count": 60,
   "metadata": {
    "scrolled": true
   },
   "outputs": [],
   "source": [
    "P = np.ones((N, M))\n",
    "P = np.c_[P, Phi]"
   ]
  },
  {
   "cell_type": "code",
   "execution_count": 70,
   "metadata": {
    "scrolled": true
   },
   "outputs": [],
   "source": [
    "W = np.linalg.inv((P.T @ P) * I) @ P.T @ t\n",
    "W[\"security\"] = np.concatenate([rets.columns[:-1]]*2)\n",
    "W[\"params\"] = [\"alpha\"] * M + [\"beta\"]*M\n",
    "B = W.pivot_table(index = \"security\", columns = \"params\", values = \"WALMEX\")"
   ]
  },
  {
   "cell_type": "code",
   "execution_count": 71,
   "metadata": {},
   "outputs": [
    {
     "data": {
      "application/vnd.jupyter.widget-view+json": {
       "model_id": "492d30464ed84d2ea270ba3a3cee5237",
       "version_major": 2,
       "version_minor": 0
      },
      "text/plain": [
       "interactive(children=(Dropdown(description='security', options=('AC', 'ALFAA', 'ALPEKA', 'ALSEA', 'AMXL', 'ASU…"
      ]
     },
     "metadata": {},
     "output_type": "display_data"
    }
   ],
   "source": [
    "from ipywidgets import interact\n",
    "\n",
    "@interact(security = rets.columns[:-1])\n",
    "\n",
    "def plot_capm(security):\n",
    "    rets.plot.scatter(x = security, y = \"WALMEX\", alpha = 0.6)\n",
    "    sec = rets[security]\n",
    "    x = np.linspace(sec.min(), sec.max(), 100)\n",
    "    alpha, beta = B.loc[security]\n",
    "    plt.plot(x, alpha + beta * x, c = \"tab:orange\", linewidth = 4)"
   ]
  },
  {
   "cell_type": "markdown",
   "metadata": {},
   "source": [
    "### Construcción de Portafolio"
   ]
  },
  {
   "cell_type": "code",
   "execution_count": 120,
   "metadata": {
    "scrolled": true
   },
   "outputs": [],
   "source": [
    "rend = rets.sample(5, axis = 1).loc[\"2018-01-03\":\"2018-12-31\",:]"
   ]
  },
  {
   "cell_type": "code",
   "execution_count": 121,
   "metadata": {},
   "outputs": [],
   "source": [
    "weights = np.random.random(5)\n",
    "weights = weights / sum(weights)"
   ]
  },
  {
   "cell_type": "code",
   "execution_count": 145,
   "metadata": {},
   "outputs": [],
   "source": [
    "def port_rend(weights, r):\n",
    "    E_p = (r.mean() @ weights).sum() * 252\n",
    "    return E_p\n",
    "\n",
    "def port_vol(weights, r):\n",
    "    S_p = np.sqrt(weights.T @ (r.cov() * 252) @ weights)\n",
    "    return S_p"
   ]
  },
  {
   "cell_type": "code",
   "execution_count": 164,
   "metadata": {},
   "outputs": [],
   "source": [
    "weights_sim = np.random.randn(5000, 5)\n",
    "weights_sim = weights_sim/ weights_sim.sum(axis = 1, keepdims = True)\n",
    "\n",
    "rend_sim = np.apply_along_axis(port_rend, 1, weights_sim, r = rend)\n",
    "vol_sim  = np.apply_along_axis(port_vol, 1, weights_sim, r = rend)"
   ]
  },
  {
   "cell_type": "markdown",
   "metadata": {},
   "source": [
    "### Optimización de portafolio"
   ]
  },
  {
   "cell_type": "code",
   "execution_count": 165,
   "metadata": {},
   "outputs": [],
   "source": [
    "from scipy.optimize import minimize"
   ]
  },
  {
   "cell_type": "code",
   "execution_count": 186,
   "metadata": {
    "scrolled": true
   },
   "outputs": [
    {
     "data": {
      "text/plain": [
       "     fun: 0.16005262501667566\n",
       "     jac: array([0.15503004, 0.14964319, 0.15084998, 0.17877042, 0.16044132])\n",
       " message: 'Optimization terminated successfully.'\n",
       "    nfev: 56\n",
       "     nit: 8\n",
       "    njev: 8\n",
       "  status: 0\n",
       " success: True\n",
       "       x: array([0.17201648, 0.13529778, 0.35119308, 0.29305921, 0.04843345])"
      ]
     },
     "execution_count": 186,
     "metadata": {},
     "output_type": "execute_result"
    }
   ],
   "source": [
    "N, M = rend.shape\n",
    "w0 = np.random.randn(M)\n",
    "\n",
    "\n",
    "def sum_weights(weights):\n",
    "    return weights.sum() - 1\n",
    "\n",
    "def rend_esperado(w, E):\n",
    "    return port_rend(w, rend) - E\n",
    "\n",
    "e0 = 0.01\n",
    "\n",
    "constraints = [\n",
    "    {\"type\": \"eq\", \"fun\": sum_weights},\n",
    "    {\"type\": \"eq\", \"fun\": lambda w: rend_esperado(w,e0)}\n",
    "]\n",
    "\n",
    "port0  = minimize(port_vol, w0, constraints = constraints, args = rend)\n",
    "port0"
   ]
  },
  {
   "cell_type": "code",
   "execution_count": 187,
   "metadata": {},
   "outputs": [],
   "source": [
    "wp0 = port0.x"
   ]
  },
  {
   "cell_type": "markdown",
   "metadata": {},
   "source": [
    "### Tarea"
   ]
  },
  {
   "cell_type": "code",
   "execution_count": 207,
   "metadata": {
    "scrolled": true
   },
   "outputs": [
    {
     "data": {
      "text/plain": [
       "     fun: 0.1613133380675014\n",
       "     jac: array([0.16154994, 0.11311235, 0.15943012, 0.17654383, 0.16489253])\n",
       " message: 'Optimization terminated successfully.'\n",
       "    nfev: 56\n",
       "     nit: 8\n",
       "    njev: 8\n",
       "  status: 0\n",
       " success: True\n",
       "       x: array([0.20288657, 0.08      , 0.37426353, 0.28200897, 0.06084093])"
      ]
     },
     "execution_count": 207,
     "metadata": {},
     "output_type": "execute_result"
    }
   ],
   "source": [
    "N, M = rend.shape\n",
    "w0 = np.random.randn(M)\n",
    "\n",
    "def comp_menos_riesgo(w, rend):\n",
    "    #el activo más riesgoso no puede rebasar el 8% de la composición del portafolio\n",
    "    act_max_vol = (rend.cov() * np.identity(len(rend.cov()))).max().argmax()\n",
    "    return -w[act_max_vol] + 0.08\n",
    "\n",
    "e0 = 0.01\n",
    "\n",
    "constraints = [\n",
    "    {\"type\": \"eq\", \"fun\": sum_weights},\n",
    "    {\"type\": \"eq\", \"fun\": lambda w: rend_esperado(w,e0)},\n",
    "    {\"type\": \"ineq\", \"fun\": lambda w: comp_menos_riesgo(w,rend)}\n",
    "]\n",
    "\n",
    "port1  = minimize(port_vol, w0, constraints = constraints, args = rend)\n",
    "port1"
   ]
  },
  {
   "cell_type": "code",
   "execution_count": 203,
   "metadata": {},
   "outputs": [],
   "source": [
    "wp1 = port1.x"
   ]
  },
  {
   "cell_type": "code",
   "execution_count": 226,
   "metadata": {},
   "outputs": [
    {
     "data": {
      "image/png": "[encoded data removed]",
      "text/plain": [
       "<Figure size 432x288 with 1 Axes>"
      ]
     },
     "metadata": {
      "needs_background": "light"
     },
     "output_type": "display_data"
    }
   ],
   "source": [
    "plt.scatter(vol_sim, rend_sim, alpha = 0.4)\n",
    "plt.scatter(port_vol(wp0, rend), port_rend(wp0, rend), c = \"red\", s = 150)\n",
    "plt.scatter(port_vol(wp1, rend), port_rend(wp1, rend), c = \"green\", s = 150)\n",
    "plt.xlabel(r\"$\\sigma^2_r$\", fontsize = 12)\n",
    "plt.ylabel(\"E[r]\", fontsize = 12)\n",
    "plt.xlim(0.155,.3)\n",
    "plt.ylim(-1,1)\n",
    "plt.show()"
   ]
  }
 ],
 "metadata": {
  "kernelspec": {
   "display_name": "Python 3",
   "language": "python",
   "name": "python3"
  },
  "language_info": {
   "codemirror_mode": {
    "name": "ipython",
    "version": 3
   },
   "file_extension": ".py",
   "mimetype": "text/x-python",
   "name": "python",
   "nbconvert_exporter": "python",
   "pygments_lexer": "ipython3",
   "version": "3.7.3"
  }
 },
 "nbformat": 4,
 "nbformat_minor": 4
}
