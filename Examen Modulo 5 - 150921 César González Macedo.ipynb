{
 "cells": [
  {
   "cell_type": "code",
   "execution_count": 1,
   "metadata": {},
   "outputs": [],
   "source": [
    "import pandas as pd\n",
    "import numpy as np\n",
    "import matplotlib.pyplot as plt\n",
    "from scipy.optimize import minimize"
   ]
  },
  {
   "cell_type": "code",
   "execution_count": 2,
   "metadata": {},
   "outputs": [],
   "source": [
    "raiz = r\"C:\\Users\\cegom\\Downloads\""
   ]
  },
  {
   "cell_type": "code",
   "execution_count": 5,
   "metadata": {},
   "outputs": [],
   "source": [
    "market = pd.read_excel(f\"{raiz}/acciones.xlsx\", index_col=0)"
   ]
  },
  {
   "cell_type": "code",
   "execution_count": 143,
   "metadata": {
    "scrolled": true
   },
   "outputs": [
    {
     "data": {
      "text/plain": [
       "Index(['ELEKTRA* MF Equity', 'OMAB MF Equity', 'BOLSAA MF Equity',\n",
       "       'WALMEX* MF Equity', 'GAPB MF Equity', 'GCC* MF Equity',\n",
       "       'GMEXICOB MF Equity'],\n",
       "      dtype='object')"
      ]
     },
     "execution_count": 143,
     "metadata": {},
     "output_type": "execute_result"
    }
   ],
   "source": [
    "mejores = (market.pct_change().dropna(axis = 0).mean() * 252).sort_values(ascending = False).head(7)"
   ]
  },
  {
   "cell_type": "code",
   "execution_count": 149,
   "metadata": {
    "scrolled": true
   },
   "outputs": [
    {
     "data": {
      "text/html": [
       "<div>\n",
       "<style scoped>\n",
       "    .dataframe tbody tr th:only-of-type {\n",
       "        vertical-align: middle;\n",
       "    }\n",
       "\n",
       "    .dataframe tbody tr th {\n",
       "        vertical-align: top;\n",
       "    }\n",
       "\n",
       "    .dataframe thead th {\n",
       "        text-align: right;\n",
       "    }\n",
       "</style>\n",
       "<table border=\"1\" class=\"dataframe\">\n",
       "  <thead>\n",
       "    <tr style=\"text-align: right;\">\n",
       "      <th></th>\n",
       "      <th>ELEKTRA* MF Equity</th>\n",
       "      <th>OMAB MF Equity</th>\n",
       "      <th>BOLSAA MF Equity</th>\n",
       "      <th>WALMEX* MF Equity</th>\n",
       "      <th>GAPB MF Equity</th>\n",
       "      <th>GCC* MF Equity</th>\n",
       "      <th>GMEXICOB MF Equity</th>\n",
       "      <th>MEXBOL INDEX</th>\n",
       "    </tr>\n",
       "    <tr>\n",
       "      <th>DATE</th>\n",
       "      <th></th>\n",
       "      <th></th>\n",
       "      <th></th>\n",
       "      <th></th>\n",
       "      <th></th>\n",
       "      <th></th>\n",
       "      <th></th>\n",
       "      <th></th>\n",
       "    </tr>\n",
       "  </thead>\n",
       "  <tbody>\n",
       "    <tr>\n",
       "      <th>2016-01-04</th>\n",
       "      <td>-0.028018</td>\n",
       "      <td>-0.022007</td>\n",
       "      <td>-0.012686</td>\n",
       "      <td>-0.014946</td>\n",
       "      <td>-0.022887</td>\n",
       "      <td>-0.029011</td>\n",
       "      <td>-0.029356</td>\n",
       "      <td>-0.020099</td>\n",
       "    </tr>\n",
       "    <tr>\n",
       "      <th>2016-01-05</th>\n",
       "      <td>-0.030183</td>\n",
       "      <td>-0.002324</td>\n",
       "      <td>0.000000</td>\n",
       "      <td>-0.004202</td>\n",
       "      <td>-0.004308</td>\n",
       "      <td>0.000000</td>\n",
       "      <td>0.020722</td>\n",
       "      <td>-0.001710</td>\n",
       "    </tr>\n",
       "    <tr>\n",
       "      <th>2016-01-06</th>\n",
       "      <td>-0.040974</td>\n",
       "      <td>0.005516</td>\n",
       "      <td>-0.003988</td>\n",
       "      <td>-0.006564</td>\n",
       "      <td>-0.006354</td>\n",
       "      <td>0.000000</td>\n",
       "      <td>-0.024143</td>\n",
       "      <td>-0.008337</td>\n",
       "    </tr>\n",
       "    <tr>\n",
       "      <th>2016-01-07</th>\n",
       "      <td>-0.024835</td>\n",
       "      <td>-0.013288</td>\n",
       "      <td>-0.024021</td>\n",
       "      <td>-0.056395</td>\n",
       "      <td>-0.038574</td>\n",
       "      <td>-0.017237</td>\n",
       "      <td>-0.015744</td>\n",
       "      <td>-0.024696</td>\n",
       "    </tr>\n",
       "    <tr>\n",
       "      <th>2016-01-08</th>\n",
       "      <td>-0.013617</td>\n",
       "      <td>-0.016185</td>\n",
       "      <td>-0.017320</td>\n",
       "      <td>0.026007</td>\n",
       "      <td>0.017124</td>\n",
       "      <td>0.000000</td>\n",
       "      <td>-0.024279</td>\n",
       "      <td>-0.009744</td>\n",
       "    </tr>\n",
       "  </tbody>\n",
       "</table>\n",
       "</div>"
      ],
      "text/plain": [
       "            ELEKTRA* MF Equity  OMAB MF Equity  BOLSAA MF Equity  \\\n",
       "DATE                                                               \n",
       "2016-01-04           -0.028018       -0.022007         -0.012686   \n",
       "2016-01-05           -0.030183       -0.002324          0.000000   \n",
       "2016-01-06           -0.040974        0.005516         -0.003988   \n",
       "2016-01-07           -0.024835       -0.013288         -0.024021   \n",
       "2016-01-08           -0.013617       -0.016185         -0.017320   \n",
       "\n",
       "            WALMEX* MF Equity  GAPB MF Equity  GCC* MF Equity  \\\n",
       "DATE                                                            \n",
       "2016-01-04          -0.014946       -0.022887       -0.029011   \n",
       "2016-01-05          -0.004202       -0.004308        0.000000   \n",
       "2016-01-06          -0.006564       -0.006354        0.000000   \n",
       "2016-01-07          -0.056395       -0.038574       -0.017237   \n",
       "2016-01-08           0.026007        0.017124        0.000000   \n",
       "\n",
       "            GMEXICOB MF Equity  MEXBOL INDEX  \n",
       "DATE                                          \n",
       "2016-01-04           -0.029356     -0.020099  \n",
       "2016-01-05            0.020722     -0.001710  \n",
       "2016-01-06           -0.024143     -0.008337  \n",
       "2016-01-07           -0.015744     -0.024696  \n",
       "2016-01-08           -0.024279     -0.009744  "
      ]
     },
     "execution_count": 149,
     "metadata": {},
     "output_type": "execute_result"
    }
   ],
   "source": [
    "acciones = pd.concat([market[list(mejores.index)],market.iloc[:,-1]], axis = 1)\n",
    "rets = acciones.pct_change().dropna(axis = 0)\n",
    "rets.head()"
   ]
  },
  {
   "cell_type": "code",
   "execution_count": 200,
   "metadata": {},
   "outputs": [
    {
     "name": "stdout",
     "output_type": "stream",
     "text": [
      "Rendimiento promedio constante \n",
      "\n",
      "Rendimiento Diario:\n",
      "\n",
      "ELEKTRA* MF Equity    0.15%\n",
      "OMAB MF Equity        0.06%\n",
      "BOLSAA MF Equity      0.07%\n",
      "WALMEX* MF Equity     0.03%\n",
      "GAPB MF Equity        0.05%\n",
      "GCC* MF Equity        0.09%\n",
      "GMEXICOB MF Equity    0.05%\n",
      "dtype: object \n",
      "\n",
      "Rendimiento Anual: \n",
      "\n",
      "ELEKTRA* MF Equity    36.68%\n",
      "OMAB MF Equity        15.89%\n",
      "BOLSAA MF Equity      18.12%\n",
      "WALMEX* MF Equity      8.24%\n",
      "GAPB MF Equity        12.78%\n",
      "GCC* MF Equity        22.31%\n",
      "GMEXICOB MF Equity    13.38%\n",
      "dtype: object\n"
     ]
    }
   ],
   "source": [
    "#1.\n",
    "rend_diario = rets.iloc[:,:7].mean()\n",
    "rend_anual = rets.iloc[:,:7].mean() * 252\n",
    "\n",
    "print(\"Rendimiento promedio constante \\n\")\n",
    "print(f\"Rendimiento Diario:\\n\\n{rend_diario.apply(lambda x: f'{x * 100:0.2f}%')} \\n\\nRendimiento Anual: \\n\\n{rend_anual.apply(lambda x: f'{x * 100:0.2f}%')}\")"
   ]
  },
  {
   "cell_type": "code",
   "execution_count": 202,
   "metadata": {},
   "outputs": [],
   "source": [
    "Phi = rets.iloc[:, :-1].values\n",
    "t = rets.iloc[:, [-1]]\n",
    "N, M = Phi.shape\n",
    "\n",
    "I = np.concatenate([np.identity(M)] * 2, axis=1)\n",
    "I = np.concatenate([I] * 2, axis=0)"
   ]
  },
  {
   "cell_type": "code",
   "execution_count": 203,
   "metadata": {},
   "outputs": [],
   "source": [
    "P = np.ones((N, M))\n",
    "P = np.c_[P, Phi]"
   ]
  },
  {
   "cell_type": "code",
   "execution_count": 220,
   "metadata": {
    "scrolled": true
   },
   "outputs": [
    {
     "data": {
      "text/html": [
       "<div>\n",
       "<style scoped>\n",
       "    .dataframe tbody tr th:only-of-type {\n",
       "        vertical-align: middle;\n",
       "    }\n",
       "\n",
       "    .dataframe tbody tr th {\n",
       "        vertical-align: top;\n",
       "    }\n",
       "\n",
       "    .dataframe thead th {\n",
       "        text-align: right;\n",
       "    }\n",
       "</style>\n",
       "<table border=\"1\" class=\"dataframe\">\n",
       "  <thead>\n",
       "    <tr style=\"text-align: right;\">\n",
       "      <th>param</th>\n",
       "      <th>beta</th>\n",
       "    </tr>\n",
       "    <tr>\n",
       "      <th>security</th>\n",
       "      <th></th>\n",
       "    </tr>\n",
       "  </thead>\n",
       "  <tbody>\n",
       "    <tr>\n",
       "      <th>BOLSAA MF Equity</th>\n",
       "      <td>0.152271</td>\n",
       "    </tr>\n",
       "    <tr>\n",
       "      <th>ELEKTRA* MF Equity</th>\n",
       "      <td>0.062163</td>\n",
       "    </tr>\n",
       "    <tr>\n",
       "      <th>GAPB MF Equity</th>\n",
       "      <td>0.282531</td>\n",
       "    </tr>\n",
       "    <tr>\n",
       "      <th>GCC* MF Equity</th>\n",
       "      <td>0.110661</td>\n",
       "    </tr>\n",
       "    <tr>\n",
       "      <th>GMEXICOB MF Equity</th>\n",
       "      <td>0.244111</td>\n",
       "    </tr>\n",
       "    <tr>\n",
       "      <th>OMAB MF Equity</th>\n",
       "      <td>0.259061</td>\n",
       "    </tr>\n",
       "    <tr>\n",
       "      <th>WALMEX* MF Equity</th>\n",
       "      <td>0.291118</td>\n",
       "    </tr>\n",
       "  </tbody>\n",
       "</table>\n",
       "</div>"
      ],
      "text/plain": [
       "param                   beta\n",
       "security                    \n",
       "BOLSAA MF Equity    0.152271\n",
       "ELEKTRA* MF Equity  0.062163\n",
       "GAPB MF Equity      0.282531\n",
       "GCC* MF Equity      0.110661\n",
       "GMEXICOB MF Equity  0.244111\n",
       "OMAB MF Equity      0.259061\n",
       "WALMEX* MF Equity   0.291118"
      ]
     },
     "execution_count": 220,
     "metadata": {},
     "output_type": "execute_result"
    }
   ],
   "source": [
    "#1a\n",
    "W = np.linalg.inv((P.T @ P) * I) @ P.T @ t\n",
    "W[\"security\"]  = np.concatenate([rets.columns[:-1]] * 2)\n",
    "W[\"param\"] = [\"alpha\"] * M + [\"beta\"] * M\n",
    "B = W.pivot_table(index=\"security\", columns=\"param\", values=\"MEXBOL INDEX\")\n",
    "betas = B[[\"beta\"]].copy()\n",
    "betas"
   ]
  },
  {
   "cell_type": "code",
   "execution_count": 221,
   "metadata": {},
   "outputs": [
    {
     "data": {
      "text/html": [
       "<div>\n",
       "<style scoped>\n",
       "    .dataframe tbody tr th:only-of-type {\n",
       "        vertical-align: middle;\n",
       "    }\n",
       "\n",
       "    .dataframe tbody tr th {\n",
       "        vertical-align: top;\n",
       "    }\n",
       "\n",
       "    .dataframe thead th {\n",
       "        text-align: right;\n",
       "    }\n",
       "</style>\n",
       "<table border=\"1\" class=\"dataframe\">\n",
       "  <thead>\n",
       "    <tr style=\"text-align: right;\">\n",
       "      <th>param</th>\n",
       "      <th>beta</th>\n",
       "      <th>rendimiento_CAPM</th>\n",
       "    </tr>\n",
       "    <tr>\n",
       "      <th>security</th>\n",
       "      <th></th>\n",
       "      <th></th>\n",
       "    </tr>\n",
       "  </thead>\n",
       "  <tbody>\n",
       "    <tr>\n",
       "      <th>BOLSAA MF Equity</th>\n",
       "      <td>0.152271</td>\n",
       "      <td>0.065227</td>\n",
       "    </tr>\n",
       "    <tr>\n",
       "      <th>ELEKTRA* MF Equity</th>\n",
       "      <td>0.062163</td>\n",
       "      <td>0.056216</td>\n",
       "    </tr>\n",
       "    <tr>\n",
       "      <th>GAPB MF Equity</th>\n",
       "      <td>0.282531</td>\n",
       "      <td>0.078253</td>\n",
       "    </tr>\n",
       "    <tr>\n",
       "      <th>GCC* MF Equity</th>\n",
       "      <td>0.110661</td>\n",
       "      <td>0.061066</td>\n",
       "    </tr>\n",
       "    <tr>\n",
       "      <th>GMEXICOB MF Equity</th>\n",
       "      <td>0.244111</td>\n",
       "      <td>0.074411</td>\n",
       "    </tr>\n",
       "    <tr>\n",
       "      <th>OMAB MF Equity</th>\n",
       "      <td>0.259061</td>\n",
       "      <td>0.075906</td>\n",
       "    </tr>\n",
       "    <tr>\n",
       "      <th>WALMEX* MF Equity</th>\n",
       "      <td>0.291118</td>\n",
       "      <td>0.079112</td>\n",
       "    </tr>\n",
       "  </tbody>\n",
       "</table>\n",
       "</div>"
      ],
      "text/plain": [
       "param                   beta  rendimiento_CAPM\n",
       "security                                      \n",
       "BOLSAA MF Equity    0.152271          0.065227\n",
       "ELEKTRA* MF Equity  0.062163          0.056216\n",
       "GAPB MF Equity      0.282531          0.078253\n",
       "GCC* MF Equity      0.110661          0.061066\n",
       "GMEXICOB MF Equity  0.244111          0.074411\n",
       "OMAB MF Equity      0.259061          0.075906\n",
       "WALMEX* MF Equity   0.291118          0.079112"
      ]
     },
     "execution_count": 221,
     "metadata": {},
     "output_type": "execute_result"
    }
   ],
   "source": [
    "betas[\"rendimiento_CAPM\"] = 0.05 + betas * 0.1\n",
    "betas"
   ]
  },
  {
   "cell_type": "code",
   "execution_count": 154,
   "metadata": {},
   "outputs": [],
   "source": [
    "#1b\n",
    "#Dado que todas las betas son menores que 1, se considera son acciones defensivas"
   ]
  },
  {
   "cell_type": "code",
   "execution_count": 155,
   "metadata": {},
   "outputs": [
    {
     "data": {
      "text/html": [
       "<div>\n",
       "<style scoped>\n",
       "    .dataframe tbody tr th:only-of-type {\n",
       "        vertical-align: middle;\n",
       "    }\n",
       "\n",
       "    .dataframe tbody tr th {\n",
       "        vertical-align: top;\n",
       "    }\n",
       "\n",
       "    .dataframe thead th {\n",
       "        text-align: right;\n",
       "    }\n",
       "</style>\n",
       "<table border=\"1\" class=\"dataframe\">\n",
       "  <thead>\n",
       "    <tr style=\"text-align: right;\">\n",
       "      <th></th>\n",
       "      <th>ELEKTRA* MF Equity</th>\n",
       "      <th>OMAB MF Equity</th>\n",
       "      <th>BOLSAA MF Equity</th>\n",
       "      <th>WALMEX* MF Equity</th>\n",
       "      <th>GAPB MF Equity</th>\n",
       "      <th>GCC* MF Equity</th>\n",
       "      <th>GMEXICOB MF Equity</th>\n",
       "    </tr>\n",
       "  </thead>\n",
       "  <tbody>\n",
       "    <tr>\n",
       "      <th>ELEKTRA* MF Equity</th>\n",
       "      <td>4.283130e-04</td>\n",
       "      <td>0.000026</td>\n",
       "      <td>0.000010</td>\n",
       "      <td>0.000028</td>\n",
       "      <td>0.000017</td>\n",
       "      <td>0.000005</td>\n",
       "      <td>-7.371033e-07</td>\n",
       "    </tr>\n",
       "    <tr>\n",
       "      <th>OMAB MF Equity</th>\n",
       "      <td>2.585833e-05</td>\n",
       "      <td>0.000253</td>\n",
       "      <td>0.000045</td>\n",
       "      <td>0.000051</td>\n",
       "      <td>0.000131</td>\n",
       "      <td>0.000025</td>\n",
       "      <td>6.281504e-05</td>\n",
       "    </tr>\n",
       "    <tr>\n",
       "      <th>BOLSAA MF Equity</th>\n",
       "      <td>9.889090e-06</td>\n",
       "      <td>0.000045</td>\n",
       "      <td>0.000278</td>\n",
       "      <td>0.000023</td>\n",
       "      <td>0.000043</td>\n",
       "      <td>0.000022</td>\n",
       "      <td>4.450066e-05</td>\n",
       "    </tr>\n",
       "    <tr>\n",
       "      <th>WALMEX* MF Equity</th>\n",
       "      <td>2.820605e-05</td>\n",
       "      <td>0.000051</td>\n",
       "      <td>0.000023</td>\n",
       "      <td>0.000215</td>\n",
       "      <td>0.000046</td>\n",
       "      <td>0.000017</td>\n",
       "      <td>4.870073e-05</td>\n",
       "    </tr>\n",
       "    <tr>\n",
       "      <th>GAPB MF Equity</th>\n",
       "      <td>1.683988e-05</td>\n",
       "      <td>0.000131</td>\n",
       "      <td>0.000043</td>\n",
       "      <td>0.000046</td>\n",
       "      <td>0.000233</td>\n",
       "      <td>0.000023</td>\n",
       "      <td>6.983020e-05</td>\n",
       "    </tr>\n",
       "    <tr>\n",
       "      <th>GCC* MF Equity</th>\n",
       "      <td>5.209483e-06</td>\n",
       "      <td>0.000025</td>\n",
       "      <td>0.000022</td>\n",
       "      <td>0.000017</td>\n",
       "      <td>0.000023</td>\n",
       "      <td>0.000242</td>\n",
       "      <td>3.033839e-05</td>\n",
       "    </tr>\n",
       "    <tr>\n",
       "      <th>GMEXICOB MF Equity</th>\n",
       "      <td>-7.371033e-07</td>\n",
       "      <td>0.000063</td>\n",
       "      <td>0.000045</td>\n",
       "      <td>0.000049</td>\n",
       "      <td>0.000070</td>\n",
       "      <td>0.000030</td>\n",
       "      <td>3.251424e-04</td>\n",
       "    </tr>\n",
       "  </tbody>\n",
       "</table>\n",
       "</div>"
      ],
      "text/plain": [
       "                    ELEKTRA* MF Equity  OMAB MF Equity  BOLSAA MF Equity  \\\n",
       "ELEKTRA* MF Equity        4.283130e-04        0.000026          0.000010   \n",
       "OMAB MF Equity            2.585833e-05        0.000253          0.000045   \n",
       "BOLSAA MF Equity          9.889090e-06        0.000045          0.000278   \n",
       "WALMEX* MF Equity         2.820605e-05        0.000051          0.000023   \n",
       "GAPB MF Equity            1.683988e-05        0.000131          0.000043   \n",
       "GCC* MF Equity            5.209483e-06        0.000025          0.000022   \n",
       "GMEXICOB MF Equity       -7.371033e-07        0.000063          0.000045   \n",
       "\n",
       "                    WALMEX* MF Equity  GAPB MF Equity  GCC* MF Equity  \\\n",
       "ELEKTRA* MF Equity           0.000028        0.000017        0.000005   \n",
       "OMAB MF Equity               0.000051        0.000131        0.000025   \n",
       "BOLSAA MF Equity             0.000023        0.000043        0.000022   \n",
       "WALMEX* MF Equity            0.000215        0.000046        0.000017   \n",
       "GAPB MF Equity               0.000046        0.000233        0.000023   \n",
       "GCC* MF Equity               0.000017        0.000023        0.000242   \n",
       "GMEXICOB MF Equity           0.000049        0.000070        0.000030   \n",
       "\n",
       "                    GMEXICOB MF Equity  \n",
       "ELEKTRA* MF Equity       -7.371033e-07  \n",
       "OMAB MF Equity            6.281504e-05  \n",
       "BOLSAA MF Equity          4.450066e-05  \n",
       "WALMEX* MF Equity         4.870073e-05  \n",
       "GAPB MF Equity            6.983020e-05  \n",
       "GCC* MF Equity            3.033839e-05  \n",
       "GMEXICOB MF Equity        3.251424e-04  "
      ]
     },
     "execution_count": 155,
     "metadata": {},
     "output_type": "execute_result"
    }
   ],
   "source": [
    "#2.\n",
    "rend = rets.iloc[:,:7]\n",
    "mat_cov = rend.cov()\n",
    "mat_cov"
   ]
  },
  {
   "cell_type": "code",
   "execution_count": 156,
   "metadata": {},
   "outputs": [],
   "source": [
    "#3.\n",
    "def port_rend(weights, r):\n",
    "    E_p = (r.mean() @ weights) * 252\n",
    "    return E_p\n",
    "\n",
    "def port_vol(weights, r):\n",
    "    S_p = np.sqrt(weights.T @ (r.cov() * 252) @ weights)\n",
    "    return S_p"
   ]
  },
  {
   "cell_type": "code",
   "execution_count": null,
   "metadata": {},
   "outputs": [],
   "source": [
    "np.random.seed(150)\n",
    "\n",
    "num = np.random.random(7)\n",
    "weights = num/num.sum()"
   ]
  },
  {
   "cell_type": "code",
   "execution_count": 157,
   "metadata": {
    "scrolled": true
   },
   "outputs": [
    {
     "data": {
      "text/plain": [
       "     fun: 0.1307910593095695\n",
       "     jac: array([0.13098718, 0.13060569, 0.13045429, 0.13108908, 0.13089789,\n",
       "       0.13066944, 0.13076373])\n",
       " message: 'Optimization terminated successfully.'\n",
       "    nfev: 63\n",
       "     nit: 7\n",
       "    njev: 7\n",
       "  status: 0\n",
       " success: True\n",
       "       x: array([0.13000058, 0.08024519, 0.15833768, 0.19858484, 0.11854872,\n",
       "       0.21797256, 0.09631043])"
      ]
     },
     "execution_count": 157,
     "metadata": {},
     "output_type": "execute_result"
    }
   ],
   "source": [
    "N, M = rets.shape\n",
    "w0  = weights\n",
    "\n",
    "def sum_weights(weights):\n",
    "    return weights.sum() - 1 # == 0\n",
    "\n",
    "constraints = [\n",
    "    {\"type\": \"eq\", \"fun\": sum_weights}\n",
    "]\n",
    "\n",
    "port0 = minimize(port_vol, w0, constraints=constraints, args=rend)\n",
    "port0"
   ]
  },
  {
   "cell_type": "code",
   "execution_count": 158,
   "metadata": {
    "scrolled": true
   },
   "outputs": [
    {
     "name": "stdout",
     "output_type": "stream",
     "text": [
      "Portafolio de mínima varianza: [0.13000058 0.08024519 0.15833768 0.19858484 0.11854872 0.21797256\n",
      " 0.09631043]\n"
     ]
    },
    {
     "data": {
      "text/plain": [
       "(0.18216534912432752, 0.1307910593095695)"
      ]
     },
     "execution_count": 158,
     "metadata": {},
     "output_type": "execute_result"
    }
   ],
   "source": [
    "print(f\"Portafolio de mínima varianza: {port0.x}\")\n",
    "wp0 = port0.x\n",
    "port_rend(wp0, rend), port_vol(wp0, rend)"
   ]
  },
  {
   "cell_type": "code",
   "execution_count": 212,
   "metadata": {},
   "outputs": [],
   "source": [
    "r_min = port_rend(wp0, rend)\n",
    "r_max = r_min + .2\n",
    "\n",
    "rend_max = np.linspace(r_min, r_max)"
   ]
  },
  {
   "cell_type": "code",
   "execution_count": 214,
   "metadata": {
    "scrolled": true
   },
   "outputs": [],
   "source": [
    "pesos_optimos = []\n",
    "\n",
    "def rend_esperado(w, E):\n",
    "    return port_rend(w, rend) - E\n",
    "\n",
    "for e in rend_max:\n",
    "    constraints = [\n",
    "        {\"type\": \"eq\", \"fun\": sum_weights},\n",
    "        {\"type\": \"eq\", \"fun\": lambda w: rend_esperado(w, e)}\n",
    "    ]\n",
    "\n",
    "    port1 = minimize(port_vol, w0, constraints=constraints, args=rend)\n",
    "    w_opt = port1.x\n",
    "    pesos_optimos.append(w_opt)"
   ]
  },
  {
   "cell_type": "code",
   "execution_count": 215,
   "metadata": {},
   "outputs": [
    {
     "data": {
      "text/plain": [
       "<matplotlib.colorbar.Colorbar at 0x27856943e10>"
      ]
     },
     "execution_count": 215,
     "metadata": {},
     "output_type": "execute_result"
    },
    {
     "data": {
      "image/png": "[encoded data removed]",
      "text/plain": [
       "<Figure size 432x288 with 2 Axes>"
      ]
     },
     "metadata": {
      "needs_background": "light"
     },
     "output_type": "display_data"
    }
   ],
   "source": [
    "r_opt = []\n",
    "v_opt = []\n",
    "for w in pesos_optimos:\n",
    "    r_opt.append(port_rend(w, rend))\n",
    "    v_opt.append(port_vol(w, rend))\n",
    "\n",
    "r_opt = np.array(r_opt)\n",
    "v_opt = np.array(v_opt)\n",
    "\n",
    "plt.scatter(v_opt, r_opt, c = r_opt)\n",
    "plt.scatter(port_vol(wp0, rend), port_rend(wp0, rend), c = \"red\",s = 100)\n",
    "plt.colorbar()"
   ]
  },
  {
   "cell_type": "code",
   "execution_count": 162,
   "metadata": {},
   "outputs": [],
   "source": [
    "#4.\n",
    "\n",
    "rf = 0.05\n",
    "\n",
    "def min_func_sharpe(weights):\n",
    "    return - (port_rend(weights, rend) - rf) / port_vol(weights, rend) \n",
    "\n",
    "constraints = [\n",
    "    {\"type\": \"eq\", \"fun\": sum_weights}\n",
    "]\n",
    "\n",
    "f_sharpe = minimize(min_func_sharpe, w0, constraints=constraints)"
   ]
  },
  {
   "cell_type": "code",
   "execution_count": 163,
   "metadata": {},
   "outputs": [
    {
     "data": {
      "text/plain": [
       "     fun: -1.283282490624961\n",
       "     jac: array([-0.30047536, -0.30161139, -0.30102952, -0.30210179, -0.30153926,\n",
       "       -0.30154575, -0.30148368])\n",
       " message: 'Optimization terminated successfully.'\n",
       "    nfev: 102\n",
       "     nit: 11\n",
       "    njev: 11\n",
       "  status: 0\n",
       " success: True\n",
       "       x: array([ 0.36877863,  0.11065721,  0.17851008, -0.05926022,  0.01080761,\n",
       "        0.32713177,  0.06337493])"
      ]
     },
     "execution_count": 163,
     "metadata": {},
     "output_type": "execute_result"
    }
   ],
   "source": [
    "f_sharpe"
   ]
  },
  {
   "cell_type": "code",
   "execution_count": 165,
   "metadata": {},
   "outputs": [
    {
     "data": {
      "text/plain": [
       "<matplotlib.legend.Legend at 0x27856835e10>"
      ]
     },
     "execution_count": 165,
     "metadata": {},
     "output_type": "execute_result"
    },
    {
     "data": {
      "image/png": "[encoded data removed]",
      "text/plain": [
       "<Figure size 432x288 with 1 Axes>"
      ]
     },
     "metadata": {
      "needs_background": "light"
     },
     "output_type": "display_data"
    }
   ],
   "source": [
    "e_sharpe = port_rend(w_sharpe, rend)\n",
    "vol_sharpe = port_vol(w_sharpe, rend)\n",
    "\n",
    "sigma_c =  np.linspace(0, 0.25)\n",
    "sharpe = rf + sigma_c * (e_sharpe - rf) / vol_sharpe\n",
    "\n",
    "plt.plot(sigma_c, sharpe, linestyle=\"--\", c=\"tab:orange\", label=\"Capital Allocation Line\")\n",
    "plt.plot(v_opt, r_opt)\n",
    "plt.legend(fontsize=12)"
   ]
  },
  {
   "cell_type": "code",
   "execution_count": 237,
   "metadata": {},
   "outputs": [
    {
     "data": {
      "text/plain": [
       "array([ 0.36877863,  0.11065721,  0.17851008, -0.05926022,  0.01080761,\n",
       "        0.32713177,  0.06337493])"
      ]
     },
     "execution_count": 237,
     "metadata": {},
     "output_type": "execute_result"
    }
   ],
   "source": [
    "w_sharpe = f_sharpe.x\n",
    "w_sharpe"
   ]
  },
  {
   "cell_type": "code",
   "execution_count": 240,
   "metadata": {},
   "outputs": [
    {
     "data": {
      "text/plain": [
       "0.8611722901988215"
      ]
     },
     "execution_count": 240,
     "metadata": {},
     "output_type": "execute_result"
    }
   ],
   "source": [
    "#5.\n",
    "# Sea la funcion de utilidad u = E[Rc] - 1/2 A sigma**2\n",
    "A = 3\n",
    "y_estrella = (w_sharpe * betas.rendimiento_CAPM).sum() / (A * vol_sharpe ** 2)\n",
    "y_estrella"
   ]
  },
  {
   "cell_type": "code",
   "execution_count": 242,
   "metadata": {},
   "outputs": [
    {
     "name": "stdout",
     "output_type": "stream",
     "text": [
      "Se invertira:  86.12% en activos riesgosos\n",
      "Se invertira:  13.88% en activos no riesgosos\n"
     ]
    }
   ],
   "source": [
    "print(f\"Se invertira: {y_estrella * 100: 0.2f}% en activos riesgosos\\nSe invertira: {(1 - y_estrella) * 100: 0.2f}% en activos no riesgosos\")"
   ]
  },
  {
   "cell_type": "code",
   "execution_count": 181,
   "metadata": {},
   "outputs": [],
   "source": [
    "#6.\n",
    "# Cuando hay una gran gran gran cantidad de observaciones y variables, y un modelo de ML convencional no es suficiente."
   ]
  },
  {
   "cell_type": "code",
   "execution_count": 182,
   "metadata": {},
   "outputs": [],
   "source": [
    "#7.\n",
    "# Cuando un modelo más sencillo de un resultado satisfactorio para el ejercicio. Ej una regresión."
   ]
  },
  {
   "cell_type": "code",
   "execution_count": 183,
   "metadata": {},
   "outputs": [],
   "source": [
    "#8.\n",
    "# Función sigmoidal, tanh(x) y RELU(x)."
   ]
  },
  {
   "cell_type": "code",
   "execution_count": 184,
   "metadata": {},
   "outputs": [],
   "source": [
    "#9.\n",
    "# Método para evaluar la contribución de cada capa de una red neuronal al error del output. Una vez que se tiene la salida de\n",
    "# El resultado se compara con el resultado deseado y se calcula el error hacia atrás. Se evalua la derivada de la función\n",
    "# de costos expresada como el producto de las derivadas entre cada capa."
   ]
  },
  {
   "cell_type": "code",
   "execution_count": 185,
   "metadata": {},
   "outputs": [],
   "source": [
    "#10.\n",
    "# Las redes feed fwd solo se mueven en una dirección por lo que pierden información si está existe en más de una. Las\n",
    "# redes convolucionales pueden ser más eficientes ya que captan información \"local\"."
   ]
  }
 ],
 "metadata": {
  "kernelspec": {
   "display_name": "Python 3",
   "language": "python",
   "name": "python3"
  },
  "language_info": {
   "codemirror_mode": {
    "name": "ipython",
    "version": 3
   },
   "file_extension": ".py",
   "mimetype": "text/x-python",
   "name": "python",
   "nbconvert_exporter": "python",
   "pygments_lexer": "ipython3",
   "version": "3.7.3"
  }
 },
 "nbformat": 4,
 "nbformat_minor": 4
}
